{
 "cells": [
  {
   "cell_type": "markdown",
   "metadata": {},
   "source": [
    "<div style=\"padding:20px;color:black;margin:0;font-size:280%;text-align:center;display:fill;border-radius:5px;background-color:#282f85;overflow:hidden;font-weight:450\">Project Data Analyst</br>Youssef El Ayeb</div>\n"
   ]
  },
  {
   "cell_type": "markdown",
   "metadata": {},
   "source": [
    "<div style=\"padding:20px;color:black;margin:0;font-size:280%;text-align:center;display:fill;border-radius:5px;background-color:#282f85;overflow:hidden;font-weight:450\">Cristiano Ronaldo  </br> All Club Goals Stats</div>"
   ]
  },
  {
   "cell_type": "markdown",
   "metadata": {},
   "source": [
    "# 1. Introduction\n",
    "\n",
    "**Cristiano Ronaldo dos Santos Aveiro** is a Portuguese professional footballer who plays as a forward and captains the Portugal national team.He is currently a free agent...\n",
    " \n",
    "- Current team: Portugal national football team (#7 / Forward) Trending\n",
    "                                               \n",
    "- Born: February 5, 1985 (age 37 years), Hospital Dr. Nélio Mendonça, Funchal, Portugal\n",
    "- Height: 1.87 m\n",
    "- Partner: Georgina Rodríguez (2017–)\n",
    "- Salary: 26.52 million GBP (2022)\n",
    "- Children: Cristiano Ronaldo Jr., Alana Martina dos Santos Aveiro, Eva Maria Dos Santos, Mateo Ronaldo"
   ]
  },
  {
   "cell_type": "markdown",
   "metadata": {},
   "source": [
    "<img src=\"https://imagevars.gulfnews.com/2022/11/11/Cristiano-Ronaldo_18465bad2cc_large.jpg\" alt=\"Markdown Monster icon\" style=\"float: center;\n",
    "margin-left: 160px\" />"
   ]
  },
  {
   "cell_type": "markdown",
   "metadata": {},
   "source": [
    "# 2. Data Loading"
   ]
  },
  {
   "cell_type": "code",
   "execution_count": 1,
   "metadata": {},
   "outputs": [],
   "source": [
    "import numpy as np \n",
    "import pandas as pd \n",
    "import matplotlib.pyplot as plt \n",
    "import seaborn as sns\n",
    "from datetime import timedelta\n",
    "import warnings\n",
    "import os\n",
    "import plotly.graph_objs as go\n",
    "from plotly.offline import download_plotlyjs, init_notebook_mode, plot, iplot\n",
    "import plotly.express as px"
   ]
  }
 ],
 "metadata": {
  "kernelspec": {
   "display_name": "Python 3.9.13 ('base')",
   "language": "python",
   "name": "python3"
  },
  "language_info": {
   "codemirror_mode": {
    "name": "ipython",
    "version": 3
   },
   "file_extension": ".py",
   "mimetype": "text/x-python",
   "name": "python",
   "nbconvert_exporter": "python",
   "pygments_lexer": "ipython3",
   "version": "3.9.13"
  },
  "orig_nbformat": 4,
  "vscode": {
   "interpreter": {
    "hash": "12e0fd871052bae8382eb89d677343238b314cd34143f66d34e294695782d342"
   }
  }
 },
 "nbformat": 4,
 "nbformat_minor": 2
}
